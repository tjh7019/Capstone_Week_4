{
 "cells": [
  {
   "cell_type": "markdown",
   "metadata": {
    "collapsed": true
   },
   "source": [
    "# Introduction"
   ]
  },
  {
   "cell_type": "markdown",
   "metadata": {},
   "source": [
    "The problem is locating the safest neighborhood in which to live in the city of Philadelphia. The investment necessary for choosing a place to live is such that it requires necessary and in-depth research before making such a massive decision."
   ]
  },
  {
   "cell_type": "markdown",
   "metadata": {},
   "source": [
    "The goal of this project is to determine the best neighborhood in which to live within the city of Philadelphia, Pennsylvania. To do this, we would analyze crime data for the city, average home sale prices, the available venues such as restaurants, schools, bars, grocery stores, hospitals, etc., within each neighborhood with the goal of finding the optimal area to live in Philadelphia. "
   ]
  },
  {
   "cell_type": "markdown",
   "metadata": {},
   "source": [
    "# Data"
   ]
  },
  {
   "cell_type": "markdown",
   "metadata": {},
   "source": [
    "We will be using the geographical coordinates of Philadelphia to plot neighborhoods in a section that is safe and affordable and within in the city, and cluster the neighborhoods and present the findings.\n",
    "\n",
    "The following data sources will be used:\n",
    "\n",
    "- Real world data set from Kaggle containing the Philadelphia Crimes from 2005 to 2019: A dataset consisting of the crime statistics of each section of Philadelphia along with type of crime.\n",
    "\n",
    "- List of categorized neighborhoods of Philadelphia from Wikipedia for additional information.\n",
    "\n",
    "- Consolidating datasets to include crime rates and types of crime, home sale prices, longitude and latitude of locations, etc.\n",
    "\n",
    "- Use Four Square API to add location and venue info to dataset to include restaurants, bars, schools, etc."
   ]
  },
  {
   "cell_type": "code",
   "execution_count": null,
   "metadata": {},
   "outputs": [],
   "source": []
  }
 ],
 "metadata": {
  "kernelspec": {
   "display_name": "Python 3.6",
   "language": "python",
   "name": "python3"
  },
  "language_info": {
   "codemirror_mode": {
    "name": "ipython",
    "version": 3
   },
   "file_extension": ".py",
   "mimetype": "text/x-python",
   "name": "python",
   "nbconvert_exporter": "python",
   "pygments_lexer": "ipython3",
   "version": "3.6.9"
  }
 },
 "nbformat": 4,
 "nbformat_minor": 1
}
